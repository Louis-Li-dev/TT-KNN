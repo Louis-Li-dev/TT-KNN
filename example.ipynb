{
 "cells": [
  {
   "cell_type": "code",
   "execution_count": null,
   "metadata": {},
   "outputs": [],
   "source": [
    "import pandas as pd\n",
    "from tqdm import tqdm\n",
    "import os\n",
    "import warnings\n",
    "warnings.simplefilter(action='ignore')\n",
    "\n",
    "'''Custom packages'''\n",
    "from utility.light_utility import Utility\n",
    "from geobleu import geobleu\n",
    "from ttknn import ttknn"
   ]
  },
  {
   "cell_type": "markdown",
   "metadata": {},
   "source": [
    "# Data Loading"
   ]
  },
  {
   "cell_type": "code",
   "execution_count": null,
   "metadata": {},
   "outputs": [],
   "source": [
    "SAMPLE_NUM = 10\n",
    "\n",
    "\n",
    "tar_fold = 'dataset'\n",
    "tar_path_list = []\n",
    "for dir in os.listdir(\"./\" + tar_fold):\n",
    "    if dir.__contains__(\"cityA\"): continue\n",
    "    tar_dir = os.path.join(os.getcwd(), tar_fold, dir)\n",
    "    if os.path.isdir(tar_dir) and dir.startswith(\"city\"):\n",
    "\n",
    "        tar_file = [ele for ele in os.listdir(tar_dir) if ele.endswith('.csv')][0]\n",
    "        print(f\"CSV file \\033[1m{tar_file}\\033[0m identified\")\n",
    "        tar_path = os.path.join(tar_dir, tar_file)\n",
    "        tar_path_list.append(tar_path)\n",
    "csv_file = pd.read_csv(tar_path_list[1]) # Only the second dataset is loaded\n"
   ]
  },
  {
   "cell_type": "markdown",
   "metadata": {},
   "source": [
    "# Data Filtering"
   ]
  },
  {
   "cell_type": "code",
   "execution_count": null,
   "metadata": {},
   "outputs": [],
   "source": [
    "uids_with_999 = csv_file[csv_file.x == 999].uid.unique()\n",
    "target_segment = csv_file[~csv_file.uid.isin(uids_with_999)]\n",
    "\n",
    "all_uids = target_segment.uid.unique()\n",
    "train_df, test_df = Utility.test_train_split(target_segment, 60)\n"
   ]
  },
  {
   "cell_type": "code",
   "execution_count": null,
   "metadata": {},
   "outputs": [],
   "source": [
    "dtw_score = {}\n",
    "\n",
    "for uid in tqdm(all_uids[:SAMPLE_NUM]):\n",
    "    sample = train_df[train_df.uid == uid]\n",
    "    test_sample = test_df[test_df.uid == uid]\n",
    "\n",
    "    submission_df = test_sample[['d', 't']]\n",
    "    predicted = ttknn.temporal_knn_fit_predict(sample)\n",
    "    s1 = Utility.to_eval_format(submission_df.merge(predicted, on='t', how='left'))\n",
    "    s2 = Utility.to_eval_format(test_sample)\n",
    "    dtw_score[uid] = geobleu.calc_dtw(s1, s2)\n"
   ]
  },
  {
   "cell_type": "code",
   "execution_count": null,
   "metadata": {},
   "outputs": [],
   "source": [
    "import matplotlib.pyplot as plt\n",
    "import numpy as np\n",
    "scores = list(dtw_score.values())\n",
    "means = np.mean(scores)\n",
    "plt.figure(figsize=(30, 10))\n",
    "plt.title(f\"Average dtw: {means}\")\n",
    "plt.bar(list(dtw_score.keys()), scores)\n",
    "plt.show()"
   ]
  }
 ],
 "metadata": {
  "kernelspec": {
   "display_name": "base",
   "language": "python",
   "name": "python3"
  },
  "language_info": {
   "codemirror_mode": {
    "name": "ipython",
    "version": 3
   },
   "file_extension": ".py",
   "mimetype": "text/x-python",
   "name": "python",
   "nbconvert_exporter": "python",
   "pygments_lexer": "ipython3",
   "version": "3.11.5"
  }
 },
 "nbformat": 4,
 "nbformat_minor": 2
}
